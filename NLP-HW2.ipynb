{
 "cells": [
  {
   "cell_type": "code",
   "execution_count": 1,
   "metadata": {},
   "outputs": [],
   "source": [
    "import pandas as pd\n",
    "import numpy as np\n",
    "from sklearn.model_selection import train_test_split\n",
    "import re\n",
    "from bs4 import BeautifulSoup\n",
    "import warnings \n",
    "warnings.filterwarnings(\"ignore\")\n",
    "from gensim.test.utils import datapath\n",
    "from gensim import utils\n",
    "import gensim.models\n",
    "from nltk.corpus import stopwords\n",
    "import nltk\n",
    "from nltk.stem import WordNetLemmatizer\n",
    "\n"
   ]
  },
  {
   "cell_type": "markdown",
   "metadata": {},
   "source": [
    "## 1) Dataset Generation (5 points)\n",
    "We will use the Amazon reviews dataset used in HW1. Load the dataset\n",
    "and build a balanced dataset of 250K reviews along with their ratings (50K\n",
    "instances per each rating score) through random selection. Create ternary\n",
    "labels using the ratings. We assume that ratings more than 3 denote positive\n",
    "1\n",
    "sentiment (class 1) and rating less than 3 denote negative sentiment (class\n",
    "2). Reviews with rating 3 are considered to have neutral sentiment (class 3).\n",
    "You can store your dataset after generation and reuse it to reduce the computational load. For your experiments consider a 80%/20% training/testing\n",
    "split."
   ]
  },
  {
   "cell_type": "code",
   "execution_count": 2,
   "metadata": {},
   "outputs": [
    {
     "data": {
      "text/plain": [
       "Index(['review_body', 'star_rating'], dtype='object')"
      ]
     },
     "execution_count": 2,
     "metadata": {},
     "output_type": "execute_result"
    }
   ],
   "source": [
    "df = pd.read_csv(\"data/amazon_reviews_us_Office_Products_v1_00.tsv\", sep='\\t', on_bad_lines='skip')#, usecols=['review_body','star_rating']) #lineterminator='\\r'\n",
    "df.drop(df.columns[0], axis=1, inplace=True)\n",
    "df = df[['review_body', 'star_rating']]\n",
    "df.columns"
   ]
  },
  {
   "cell_type": "markdown",
   "metadata": {},
   "source": [
    "### Preprocess/Cleaning take 15 minutes"
   ]
  },
  {
   "cell_type": "code",
   "execution_count": 3,
   "metadata": {},
   "outputs": [
    {
     "name": "stderr",
     "output_type": "stream",
     "text": [
      "[nltk_data] Downloading package stopwords to punkt...\n",
      "[nltk_data]   Package stopwords is already up-to-date!\n"
     ]
    }
   ],
   "source": [
    "contraction_mapping = {\n",
    "    \"ain't\": \"am not\",\n",
    "    \"aren't\": \"are not\",\n",
    "    \"can't\": \"cannot\",\n",
    "    \"can't've\": \"cannot have\",\n",
    "    \"'cause\": \"because\",\n",
    "    \"could've\": \"could have\",\n",
    "    \"couldn't\": \"could not\",\n",
    "    \"couldn't've\": \"could not have\",\n",
    "    \"didn't\": \"did not\",\n",
    "    \"doesn't\": \"does not\",\n",
    "    \"don't\": \"do not\",\n",
    "    \"hadn't\": \"had not\",\n",
    "    \"hadn't've\": \"had not have\",\n",
    "    \"hasn't\": \"has not\",\n",
    "    \"haven't\": \"have not\",\n",
    "    \"he'd\": \"he would\",\n",
    "    \"he'd've\": \"he would have\",\n",
    "    \"he'll\": \"he will\",\n",
    "    \"he'll've\": \"he will have\",\n",
    "    \"he's\": \"he is\",\n",
    "    \"how'd\": \"how did\",\n",
    "    \"how'd'y\": \"how do you\",\n",
    "    \"how'll\": \"how will\",\n",
    "    \"how's\": \"how is\",\n",
    "    \"I'd\": \"I would\",\n",
    "    \"I'd've\": \"I would have\",\n",
    "    \"I'll\": \"I will\",\n",
    "    \"I'll've\": \"I will have\",\n",
    "    \"I'm\": \"I am\",\n",
    "    \"I've\": \"I have\",\n",
    "    \"isn't\": \"is not\",\n",
    "    \"it'd\": \"it would\",\n",
    "    \"it'd've\": \"it would have\",\n",
    "    \"it'll\": \"it will\",\n",
    "    \"it'll've\": \"it will have\",\n",
    "    \"it's\": \"it is\",\n",
    "    \"let's\": \"let us\",\n",
    "    \"ma'am\": \"madam\",\n",
    "    \"mayn't\": \"may not\",\n",
    "    \"might've\": \"might have\",\n",
    "    \"mightn't\": \"might not\",\n",
    "    \"mightn't've\": \"might not have\",\n",
    "    \"must've\": \"must have\",\n",
    "    \"mustn't\": \"must not\",\n",
    "    \"mustn't've\": \"must not have\",\n",
    "    \"needn't\": \"need not\",\n",
    "    \"needn't've\": \"need not have\",\n",
    "    \"o'clock\": \"of the clock\",\n",
    "    \"oughtn't\": \"ought not\",\n",
    "    \"oughtn't've\": \"ought not have\",\n",
    "    \"shan't\": \"shall not\",\n",
    "    \"sha'n't\": \"shall not\",\n",
    "    \"shan't've\": \"shall not have\",\n",
    "    \"she'd\": \"she would\",\n",
    "    \"she'd've\": \"she would have\",\n",
    "    \"she'll\": \"she will\",\n",
    "    \"she'll've\": \"she will have\",\n",
    "    \"she's\": \"she is\",\n",
    "    \"should've\": \"should have\",\n",
    "    \"shouldn't\": \"should not\",\n",
    "    \"shouldn't've\": \"should not have\",\n",
    "    \"so've\": \"so have\",\n",
    "    \"so's\": \"so is\",\n",
    "    \"that'd\": \"that would\",\n",
    "    \"that'd've\": \"that would have\",\n",
    "    \"that's\": \"that is\",\n",
    "    \"there'd\": \"there would\",\n",
    "    \"there'd've\": \"there would have\",\n",
    "    \"there's\": \"there is\",\n",
    "    \"they'd\": \"they would\",\n",
    "    \"they'd've\": \"they would have\",\n",
    "    \"they'll\": \"they will\",\n",
    "    \"they'll've\": \"they will have\",\n",
    "    \"they're\": \"they are\",\n",
    "    \"they've\": \"they have\",\n",
    "    \"to've\": \"to have\",\n",
    "    \"wasn't\": \"was not\",\n",
    "    \"we'd\": \"we would\",\n",
    "    \"we'd've\": \"we would have\",\n",
    "    \"we'll\": \"we will\",\n",
    "    \"we'll've\": \"we will have\",\n",
    "    \"we're\": \"we are\",\n",
    "    \"we've\": \"we have\",\n",
    "    \"weren't\": \"were not\",\n",
    "    \"what'll\": \"what will\",\n",
    "    \"what'll've\": \"what will have\",\n",
    "    \"what're\": \"what are\",\n",
    "    \"what's\": \"what is\",\n",
    "    \"what've\": \"what have\",\n",
    "    \"when's\": \"when is\",\n",
    "    \"when've\": \"when have\",\n",
    "    \"where'd\": \"where did\",\n",
    "    \"where's\": \"where is\",\n",
    "    \"where've\": \"where have\",\n",
    "    \"who'll\": \"who will\",\n",
    "    \"who'll've\": \"who will have\",\n",
    "    \"who's\": \"who is\",\n",
    "    \"who've\": \"who have\",\n",
    "    \"why's\": \"why is\",\n",
    "    \"why've\": \"why have\",\n",
    "    \"will've\": \"will have\",\n",
    "    \"won't\": \"will not\",\n",
    "    \"won't've\": \"will not have\",\n",
    "    \"would've\": \"would have\",\n",
    "    \"wouldn't\": \"would not\",\n",
    "    \"wouldn't've\": \"would not have\",\n",
    "    \"y'all\": \"you all\",\n",
    "    \"y'all'd\": \"you all would\",\n",
    "    \"y'all'd've\": \"you all would have\",\n",
    "    \"y'all're\": \"you all are\",\n",
    "    \"y'all've\": \"you all have\",\n",
    "    \"you'd\": \"you would\",\n",
    "    \"you'd've\": \"you would have\",\n",
    "    \"you'll\": \"you will\",\n",
    "    \"you'll've\": \"you will have\",\n",
    "    \"you're\": \"you are\",\n",
    "    \"you've\": \"you have\"\n",
    "}\n",
    "\n",
    "\n",
    "pattern_contractions = re.compile('(%s)' % '|'.join(contraction_mapping.keys()))\n",
    "lemmatizer = WordNetLemmatizer()\n",
    "nltk.download('stopwords', 'punkt')\n",
    "stop_words = set(stopwords.words('english'))\n",
    "\n",
    "\n",
    "def expand_contractions(text, contraction_map=contraction_mapping):\n",
    "    return pattern_contractions.sub(lambda occurrence: contraction_map[occurrence.group(0)], text)\n",
    "\n",
    "\n",
    "def rem_stopwords(review,stp):\n",
    "    words = review.split()\n",
    "    filtered_words = [word for word in words if word not in stp]\n",
    "    filtered_sentence = ' '.join(filtered_words)\n",
    "    return filtered_sentence\n",
    "\n",
    "\n",
    "def lemmazation(review):\n",
    "    words = review.split()\n",
    "    lemmatized_words = [lemmatizer.lemmatize(word) for word in words]\n",
    "    lemmatized_review = ' '.join(lemmatized_words)\n",
    "    return lemmatized_review\n",
    "\n",
    "\n",
    "def clean_preproc_reviews(reviews, stp):\n",
    "    ### CLEANING\n",
    "    reviews = reviews.str.lower()\n",
    "    reviews = reviews.apply(lambda x: BeautifulSoup(x, \"html.parser\").get_text())\n",
    "    reviews = reviews.replace(r'http\\S+', '', regex=True)\n",
    "    reviews = reviews.replace(\"[^a-zA-Z]\", \" \", regex=True)\n",
    "    reviews = reviews.replace('\\s+', ' ', regex=True).str.strip()\n",
    "    reviews = reviews.apply(lambda x: expand_contractions(x))\n",
    "\n",
    "    ### PREPROCESSING\n",
    "    reviews = reviews.apply(lambda x : rem_stopwords(x, stp))\n",
    "    reviews = reviews.apply(lemmazation)\n",
    "\n",
    "    return reviews\n",
    "\n",
    "# Clean the reviews\n",
    "df.dropna(subset=['review_body'], inplace=True)\n",
    "df['review_body'] = clean_preproc_reviews(df['review_body'].astype(str), stop_words)\n",
    "df.dropna(subset=['review_body'], inplace=True)\n"
   ]
  },
  {
   "cell_type": "code",
   "execution_count": 4,
   "metadata": {},
   "outputs": [],
   "source": [
    "df['label'] = df['star_rating'].apply(lambda x: 1 if x in [4, 5] else (0 if x in [1, 2] else 3))\n",
    "\n",
    "\n",
    "star_ratings = [5, 4, 3, 2, 1]\n",
    "samples = [ df[df['star_rating'] == rating].sample(n=50000, random_state=42) for rating in star_ratings]\n",
    "merged_dataset = pd.concat(samples)\n"
   ]
  },
  {
   "cell_type": "markdown",
   "metadata": {},
   "source": [
    "## 2) Word Embedding (30 points)\n",
    "In this part the of the assignment, you will learn how to generate two sets\n",
    "of Word2Vec features for the dataset you generated. You can use Gensim\n",
    "library for this purpose. A helpful tutorial is available in the following link:\n",
    "https://radimrehurek.com/gensim/auto_examples/tutorials/run_word2vec.\n",
    "html\n"
   ]
  },
  {
   "cell_type": "code",
   "execution_count": 5,
   "metadata": {},
   "outputs": [],
   "source": [
    "import gensim.downloader as api\n",
    "wv = api.load('word2vec-google-news-300')"
   ]
  },
  {
   "cell_type": "markdown",
   "metadata": {},
   "source": [
    "### (a) (10 points)\n",
    "Load the pretrained “word2vec-google-news-300” Word2Vec model and learn\n",
    "how to extract word embeddings for your dataset. Try to check semantic\n",
    "similarities of the generated vectors using two examples of your own, e.g.,\n",
    "King − M an + W oman = Queen or excellent ∼ outstanding.\n"
   ]
  },
  {
   "cell_type": "code",
   "execution_count": 26,
   "metadata": {},
   "outputs": [],
   "source": [
    "# # wv['buger'] - wv['fries'] + wv['fish'] ?= wv['chips']\n",
    "# test_relationship = wv['burger'] - wv['fries'] + wv['fish']\n",
    "# print(test_relationship, wv['chips']) \n"
   ]
  },
  {
   "cell_type": "code",
   "execution_count": 7,
   "metadata": {},
   "outputs": [
    {
     "name": "stdout",
     "output_type": "stream",
     "text": [
      "King - Man + Woman = queen\n",
      "Similarity between 'excellent' and 'outstanding': 0.5567486\n"
     ]
    }
   ],
   "source": [
    "import gensim.downloader as api\n",
    "\n",
    "# Load the pretrained 'word2vec-google-news-300' model\n",
    "model = api.load('word2vec-google-news-300')\n",
    "\n",
    "# Example 1: Solving an analogy: \"King - Man + Woman = ?\"\n",
    "# Note: You may need to handle cases where words are not in the vocabulary\n",
    "result = my_model.most_similar(positive=['woman', 'king'], negative=['man'], topn=1)\n",
    "print(\"King - Man + Woman =\", result[0][0])\n",
    "\n",
    "# Example 2: Checking similarity between 'excellent' and 'outstanding'\n",
    "similarity = model.similarity('excellent', 'outstanding')\n",
    "print(\"Similarity between 'excellent' and 'outstanding':\", similarity)\n"
   ]
  },
  {
   "cell_type": "code",
   "execution_count": 8,
   "metadata": {},
   "outputs": [
    {
     "name": "stdout",
     "output_type": "stream",
     "text": [
      "King - Man + Woman = king\n",
      "Similarity between 'excellent' and 'outstanding': 0.556748628616333\n"
     ]
    }
   ],
   "source": [
    "import numpy as np\n",
    "from gensim.downloader import load\n",
    "\n",
    "# Load the model\n",
    "model = load('word2vec-google-news-300')\n",
    "\n",
    "# Function to find the most similar word\n",
    "def most_similar_vector(vector):\n",
    "    return model.similar_by_vector(vector, topn=1)[0][0]\n",
    "\n",
    "# Vector arithmetic: \"King - Man + Woman\"\n",
    "result_vector = model['king'] - model['man'] + model['woman']\n",
    "analogy_result = most_similar_vector(result_vector)\n",
    "print(f\"King - Man + Woman = {analogy_result}\")\n",
    "\n",
    "# Function to compute cosine similarity\n",
    "def cosine_similarity(vec1, vec2):\n",
    "    return np.dot(vec1, vec2) / (np.linalg.norm(vec1) * np.linalg.norm(vec2))\n",
    "\n",
    "# Compute similarity between 'excellent' and 'outstanding'\n",
    "similarity_score = cosine_similarity(model['excellent'], model['outstanding'])\n",
    "print(f\"Similarity between 'excellent' and 'outstanding': {similarity_score}\")\n"
   ]
  },
  {
   "cell_type": "markdown",
   "metadata": {},
   "source": [
    "### (b) (20 points)\n",
    "Train a Word2Vec model using your own dataset. Set the embedding size\n",
    "to be 300 and the window size to be 11. You can also consider a minimum\n",
    "word count of 10. Check the semantic similarities for the same two examples\n",
    "in part (a). What do you conclude from comparing vectors generated by\n",
    "yourself and the pretrained model? Which of the Word2Vec models seems\n",
    "to encode semantic similarities between words better?"
   ]
  },
  {
   "cell_type": "code",
   "execution_count": 32,
   "metadata": {},
   "outputs": [
    {
     "data": {
      "text/plain": [
       "Index(['review_body', 'star_rating', 'label'], dtype='object')"
      ]
     },
     "execution_count": 32,
     "metadata": {},
     "output_type": "execute_result"
    }
   ],
   "source": [
    "merged_dataset.columns"
   ]
  },
  {
   "cell_type": "code",
   "execution_count": 39,
   "metadata": {},
   "outputs": [
    {
     "name": "stdout",
     "output_type": "stream",
     "text": [
      "1500000\n"
     ]
    }
   ],
   "source": [
    "class MyCorpus:\n",
    "    def __init__(self, df, col):\n",
    "        self.df = df\n",
    "        self.col = col\n",
    "        self.count = 0\n",
    "\n",
    "    def __iter__(self):\n",
    "        for line in self.df[self.col]:\n",
    "            self.count += 1 \n",
    "            yield utils.simple_preprocess(line)\n",
    "    def print_count(self):\n",
    "        print(self.count)\n",
    "\n",
    "\n",
    "sentences = MyCorpus(merged_dataset, 'review_body')\n",
    "my_model = gensim.models.Word2Vec(sentences=sentences, vector_size=300, window=11, min_count=10, workers=4)\n",
    "sentences.print_count()\n"
   ]
  },
  {
   "cell_type": "code",
   "execution_count": 40,
   "metadata": {},
   "outputs": [
    {
     "data": {
      "text/html": [
       "<div>\n",
       "<style scoped>\n",
       "    .dataframe tbody tr th:only-of-type {\n",
       "        vertical-align: middle;\n",
       "    }\n",
       "\n",
       "    .dataframe tbody tr th {\n",
       "        vertical-align: top;\n",
       "    }\n",
       "\n",
       "    .dataframe thead th {\n",
       "        text-align: right;\n",
       "    }\n",
       "</style>\n",
       "<table border=\"1\" class=\"dataframe\">\n",
       "  <thead>\n",
       "    <tr style=\"text-align: right;\">\n",
       "      <th></th>\n",
       "      <th>review_body</th>\n",
       "      <th>star_rating</th>\n",
       "      <th>label</th>\n",
       "    </tr>\n",
       "  </thead>\n",
       "  <tbody>\n",
       "    <tr>\n",
       "      <th>2031422</th>\n",
       "      <td>child teacher wish list bought box shipped dir...</td>\n",
       "      <td>5</td>\n",
       "      <td>1</td>\n",
       "    </tr>\n",
       "    <tr>\n",
       "      <th>1390030</th>\n",
       "      <td>definitely going start ordering often much che...</td>\n",
       "      <td>5</td>\n",
       "      <td>1</td>\n",
       "    </tr>\n",
       "    <tr>\n",
       "      <th>1285394</th>\n",
       "      <td>work great</td>\n",
       "      <td>5</td>\n",
       "      <td>1</td>\n",
       "    </tr>\n",
       "    <tr>\n",
       "      <th>1452754</th>\n",
       "      <td>product tear envelope packaging ease serrated ...</td>\n",
       "      <td>5</td>\n",
       "      <td>1</td>\n",
       "    </tr>\n",
       "    <tr>\n",
       "      <th>1129854</th>\n",
       "      <td>good product fast shipping</td>\n",
       "      <td>5</td>\n",
       "      <td>1</td>\n",
       "    </tr>\n",
       "    <tr>\n",
       "      <th>...</th>\n",
       "      <td>...</td>\n",
       "      <td>...</td>\n",
       "      <td>...</td>\n",
       "    </tr>\n",
       "    <tr>\n",
       "      <th>1718122</th>\n",
       "      <td>utter junk buy gave star b c allow star glad p...</td>\n",
       "      <td>1</td>\n",
       "      <td>0</td>\n",
       "    </tr>\n",
       "    <tr>\n",
       "      <th>1498869</th>\n",
       "      <td>scanner completely worthless page scan straigh...</td>\n",
       "      <td>1</td>\n",
       "      <td>0</td>\n",
       "    </tr>\n",
       "    <tr>\n",
       "      <th>117396</th>\n",
       "      <td>garage poorly made fell apart week later mostl...</td>\n",
       "      <td>1</td>\n",
       "      <td>0</td>\n",
       "    </tr>\n",
       "    <tr>\n",
       "      <th>632610</th>\n",
       "      <td>bought returned week definitely good projector...</td>\n",
       "      <td>1</td>\n",
       "      <td>0</td>\n",
       "    </tr>\n",
       "    <tr>\n",
       "      <th>2432531</th>\n",
       "      <td>order use iphone despite suggestive advertisin...</td>\n",
       "      <td>1.0</td>\n",
       "      <td>0</td>\n",
       "    </tr>\n",
       "  </tbody>\n",
       "</table>\n",
       "<p>250000 rows × 3 columns</p>\n",
       "</div>"
      ],
      "text/plain": [
       "                                               review_body star_rating  label\n",
       "2031422  child teacher wish list bought box shipped dir...           5      1\n",
       "1390030  definitely going start ordering often much che...           5      1\n",
       "1285394                                         work great           5      1\n",
       "1452754  product tear envelope packaging ease serrated ...           5      1\n",
       "1129854                         good product fast shipping           5      1\n",
       "...                                                    ...         ...    ...\n",
       "1718122  utter junk buy gave star b c allow star glad p...           1      0\n",
       "1498869  scanner completely worthless page scan straigh...           1      0\n",
       "117396   garage poorly made fell apart week later mostl...           1      0\n",
       "632610   bought returned week definitely good projector...           1      0\n",
       "2432531  order use iphone despite suggestive advertisin...         1.0      0\n",
       "\n",
       "[250000 rows x 3 columns]"
      ]
     },
     "execution_count": 40,
     "metadata": {},
     "output_type": "execute_result"
    }
   ],
   "source": [
    "merged_dataset"
   ]
  },
  {
   "cell_type": "code",
   "execution_count": 34,
   "metadata": {},
   "outputs": [
    {
     "name": "stdout",
     "output_type": "stream",
     "text": [
      "King - Man + Woman = republican\n",
      "Similarity between 'excellent' and 'outstanding': 0.79697263\n"
     ]
    }
   ],
   "source": [
    "### NEW Dataframe\n",
    "\n",
    "word_vectors = my_model.wv\n",
    "\n",
    "# Using the most_similar method\n",
    "result = word_vectors.most_similar(positive=['woman', 'king'], negative=['man'], topn=1)\n",
    "print(\"King - Man + Woman =\", result[0][0])\n",
    "\n",
    "# Calculate similarity between words\n",
    "similarity = word_vectors.similarity('excellent', 'outstanding')\n",
    "print(\"Similarity between 'excellent' and 'outstanding':\", similarity)"
   ]
  },
  {
   "cell_type": "code",
   "execution_count": 36,
   "metadata": {},
   "outputs": [
    {
     "data": {
      "text/plain": [
       "14435"
      ]
     },
     "execution_count": 36,
     "metadata": {},
     "output_type": "execute_result"
    }
   ],
   "source": [
    "len(word_vectors)"
   ]
  },
  {
   "cell_type": "code",
   "execution_count": 29,
   "metadata": {},
   "outputs": [
    {
     "name": "stdout",
     "output_type": "stream",
     "text": [
      "King - Man + Woman = queen\n",
      "Similarity between 'excellent' and 'outstanding': 0.84469146\n"
     ]
    }
   ],
   "source": [
    "#### MODEL TRAINED ON UNREFINED DATAFRAME\n",
    "word_vectors = my_model.wv\n",
    "\n",
    "# Using the most_similar method\n",
    "result = word_vectors.most_similar(positive=['woman', 'king'], negative=['man'], topn=1)\n",
    "print(\"King - Man + Woman =\", result[0][0])\n",
    "\n",
    "# Calculate similarity between words\n",
    "similarity = word_vectors.similarity('excellent', 'outstanding')\n",
    "print(\"Similarity between 'excellent' and 'outstanding':\", similarity)"
   ]
  },
  {
   "cell_type": "code",
   "execution_count": null,
   "metadata": {},
   "outputs": [],
   "source": [
    "Y = merged_dataset['label']\n",
    "X = merged_dataset['review_body']\n",
    "X_train, X_test, y_train, y_test = train_test_split(X, Y, test_size=0.2, random_state=42)\n"
   ]
  },
  {
   "cell_type": "markdown",
   "metadata": {},
   "source": [
    "## 3) Simple models (20 points)\n",
    "Using the Word2Vec features that you can generate using the two models\n",
    "you prepared in the Word Embedding section, train a perceptron and an\n",
    "SVM model similar to HW1 for class 1 and class 2 (binary models). For this\n",
    "purpose, you can just use the average Word2Vec vectors for each review as\n",
    "the input feature (x = 1N PNi=1 Wi for a review with N words). To improve 2\n",
    "your performance, use the data cleaning and preprocessing steps of HW1\n",
    "to include only important words from each review when you compute the\n",
    "average x = 1 N PN i=1 Wi.\n",
    "Report your accuracy values on the testing split for\n",
    "these models for each feature type along with values you reported in your\n",
    "HW1 submission, i.e., for each of perceptron and SVM, you need to report\n",
    "three accuracy values for “word2vec-google-news-300”, your own Word2Vec,\n",
    "and TF-IDF features.\n",
    "What do you conclude from comparing performances for the models\n",
    "trained using the three different feature types (TF-IDF, pretrained Word2Vec,\n",
    "your trained Word2Vec)?\n"
   ]
  },
  {
   "cell_type": "code",
   "execution_count": null,
   "metadata": {},
   "outputs": [],
   "source": [
    "#### PERCEPTRON \n",
    "##USE AVERAGE WORD VECTOR\n",
    "\n",
    "from sklearn.linear_model import Perceptron\n",
    "from sklearn.metrics import accuracy_score, precision_score, recall_score, f1_score\n",
    "\n",
    "\n",
    "def evaulate(y_label, y_predicted):\n",
    "    accuracy = accuracy_score(y_label, y_predicted)\n",
    "    precision = precision_score(y_label, y_predicted, average='binary')\n",
    "    recall = recall_score(y_label, y_predicted, average='binary')\n",
    "    f1 = f1_score(y_label, y_predicted, average='binary')\n",
    "    return accuracy, precision, recall,f1\n",
    "\n",
    "clf = Perceptron(tol=1e-5, random_state=0)\n",
    "clf.fit(X_train, y_train)\n",
    "y_pred_train = clf.predict(X_train)\n",
    "y_pred_test = clf.predict(X_test)\n",
    "\n",
    "tr_acc, tr_prec, tr_rec, tr_f1 = evaulate(y_train, y_pred_train)\n",
    "te_acc, te_prec, te_rec, te_f1 = evaulate(y_test, y_pred_test)\n",
    "\n",
    "print(\"Training: Accuracy: {:.4f}, Precision: {:.4f}, Recall: {:.4f}, F1-Score: {:.4f}\".format(tr_acc, tr_prec, tr_rec, tr_f1))\n",
    "print(\" Testing: Accuracy: {:.4f}, Precision: {:.4f}, Recall: {:.4f}, F1-Score: {:.4f}\".format(te_acc, te_prec, te_rec, te_f1))"
   ]
  },
  {
   "cell_type": "code",
   "execution_count": null,
   "metadata": {},
   "outputs": [],
   "source": [
    "#### SVM "
   ]
  },
  {
   "cell_type": "markdown",
   "metadata": {},
   "source": [
    "## 4) Feedforward Neural Networks (25 points)\n",
    "Using the features that you can generate using the models you prepared in\n",
    "the Word “Embedding section”, train a feedforward multilayer perceptron\n",
    "network for sentiment analysis classification. Consider a network with two\n",
    "hidden layers, each with 50 and 10 nodes, respectively. You can use cross\n",
    "entropy loss and your own choice for other hyperparamters, e.g., nonlinearity,\n",
    "number of epochs, etc. Part of getting good results is to select good values\n",
    "for these hyperparamters.\n",
    "You can also refer to the following tutorial to familiarize yourself:\n",
    "https://www.kaggle.com/mishra1993/pytorch-multi-layer-perceptron-mnist\n",
    "Although the above tutorial is for image data but the concept of training\n",
    "an MLP is very similar to what we want to do."
   ]
  },
  {
   "cell_type": "code",
   "execution_count": null,
   "metadata": {},
   "outputs": [],
   "source": []
  },
  {
   "cell_type": "markdown",
   "metadata": {},
   "source": [
    "### (a) (10 points)\n",
    "To generate the input features, use the average Word2Vec vectors similar to\n",
    "the “Simple models” section and train the neural network. Train a network\n",
    "for binary classification using class 1 and class 2 and also a ternary model for\n",
    "the three classes. Report accuracy values on the testing split for your MLP\n",
    "model for each of the binary and ternary classification cases.\n"
   ]
  },
  {
   "cell_type": "code",
   "execution_count": null,
   "metadata": {},
   "outputs": [],
   "source": []
  },
  {
   "cell_type": "markdown",
   "metadata": {},
   "source": [
    "(b) (15 points)\n",
    "To generate the input features, concatenate the first 10 Word2Vec vectors\n",
    "for each review as the input feature (x = [WT\n",
    "1, ..., WT [10]) and train the neural 3\n",
    "network. Report the accuracy value on the testing split for your MLP model\n",
    "for each of the binary and ternary classification cases.\n",
    "What do you conclude by comparing accuracy values you obtain with\n",
    "those obtained in the “’Simple Models” section (note you can compare the\n",
    "accuracy values for binary classification)."
   ]
  },
  {
   "cell_type": "code",
   "execution_count": null,
   "metadata": {},
   "outputs": [],
   "source": []
  },
  {
   "cell_type": "markdown",
   "metadata": {},
   "source": [
    "## 5) Convolutional Neural Networks (20 points)\n",
    "Using the vectors you prepared in the “Word Embedding” section, train a\n",
    "convolutional neural network (CNN) for sentiment analysis classification.\n",
    "Train a simple CNN for sentiment analysis. You can consider an two-layer\n",
    "CNN with the output channel sizes of 50 and 10. To feed your data into the\n",
    "CNN, limit the maximum review length to 50 by truncating longer reviews\n",
    "and padding shorter reviews with a null value (0). You can use cross entropy\n",
    "loss and your own choice for other hyperparamters, e.g., nonlinearity, number\n",
    "of epochs, etc. Train the CNN network for binary classification using class 1\n",
    "and class 2 and also a ternary model for the three classes. Report accuracy\n",
    "values on the testing split for your CNN model."
   ]
  },
  {
   "cell_type": "code",
   "execution_count": null,
   "metadata": {},
   "outputs": [],
   "source": []
  }
 ],
 "metadata": {
  "kernelspec": {
   "display_name": "nuero",
   "language": "python",
   "name": "python3"
  },
  "language_info": {
   "codemirror_mode": {
    "name": "ipython",
    "version": 3
   },
   "file_extension": ".py",
   "mimetype": "text/x-python",
   "name": "python",
   "nbconvert_exporter": "python",
   "pygments_lexer": "ipython3",
   "version": "3.10.13"
  }
 },
 "nbformat": 4,
 "nbformat_minor": 2
}
