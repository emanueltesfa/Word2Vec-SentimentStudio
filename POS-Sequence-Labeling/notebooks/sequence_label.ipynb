{
 "cells": [
  {
   "cell_type": "markdown",
   "metadata": {},
   "source": [
    "test: we provide only the raw sentences that you need to\n",
    "predict the part-of-speech tags. The data format is that, each line contains\n",
    "three items separated by the tab symbol ‘\\t’. The first item is the index of\n",
    "the word in the sentence. The second item is the word type and the third\n",
    "item is the corresponding part-of-speech tag. There will be a blank line at\n",
    "the end of one sentence."
   ]
  },
  {
   "cell_type": "code",
   "execution_count": null,
   "metadata": {},
   "outputs": [],
   "source": []
  },
  {
   "cell_type": "markdown",
   "metadata": {},
   "source": [
    "### Task 1: Vocabulary Creation (20 points)\n",
    "create a vocabulary using the training data. In HMM,one important problem when creating the vocabulary is to handle unknown words. One simple solution is to replace rare words whose occurrences are less than a threshold (e.g. 3) with a special token ‘< unk >’. Task. Creating a vocabulary using the training data in the file train and\n",
    "output the vocabulary into a txt file named vocab.txt. The format of the\n",
    "vocabulary file is that each line contains a word type, its index in\n",
    "the vocabulary and its occurrences, separated by the tab symbol\n",
    "‘\\t’. The first line should be the special token ‘< unk >’ and the\n",
    "following lines should be sorted by its occurrences in descending 1 order. Note that we can only use the training data to create the vocabulary, without touching the development and test data. What is the selected\n",
    "threshold for unknown words replacement? What is the total size of your\n",
    "vocabulary and what is the total occurrences of the special token ‘< unk >’\n",
    "after replacement?"
   ]
  },
  {
   "cell_type": "code",
   "execution_count": null,
   "metadata": {},
   "outputs": [],
   "source": []
  }
 ],
 "metadata": {
  "language_info": {
   "name": "python"
  }
 },
 "nbformat": 4,
 "nbformat_minor": 2
}
